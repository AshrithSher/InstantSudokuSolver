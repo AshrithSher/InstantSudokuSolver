{
 "cells": [
  {
   "cell_type": "code",
   "execution_count": 1,
   "metadata": {},
   "outputs": [],
   "source": [
    "import tensorflow as tf\n",
    "import numpy as np\n",
    "import matplotlib.pyplot as plt\n",
    "import os\n",
    "import cv2\n",
    "from sklearn.model_selection import train_test_split"
   ]
  },
  {
   "cell_type": "markdown",
   "metadata": {},
   "source": [
    "## Get the data"
   ]
  },
  {
   "cell_type": "code",
   "execution_count": 2,
   "metadata": {},
   "outputs": [
    {
     "name": "stdout",
     "output_type": "stream",
     "text": [
      "10160\n",
      "10160\n"
     ]
    }
   ],
   "source": [
    "#Get the data\n",
    "classes = 10 \n",
    "images = []\n",
    "labels = [] \n",
    "\n",
    "for i in range(0, classes):\n",
    "    imgList = os.listdir('Chars74k/Data/'+str(i))\n",
    "    for j in imgList:\n",
    "        currentImg = cv2.imread('Chars74k/Data/'+str(i)+'/'+str(j))\n",
    "        currentImg = cv2.resize(currentImg, (28, 28))\n",
    "        images.append(currentImg)\n",
    "        labels.append(i)\n",
    "        \n",
    "print(len(images))\n",
    "print(len(labels))"
   ]
  },
  {
   "cell_type": "code",
   "execution_count": 3,
   "metadata": {},
   "outputs": [
    {
     "name": "stdout",
     "output_type": "stream",
     "text": [
      "(10160, 28, 28, 3)\n",
      "(10160,)\n"
     ]
    }
   ],
   "source": [
    "images = np.array(images)\n",
    "labels = np.array(labels)\n",
    "print(images.shape)\n",
    "print(labels.shape)"
   ]
  },
  {
   "cell_type": "code",
   "execution_count": 13,
   "metadata": {},
   "outputs": [
    {
     "data": {
      "text/plain": [
       "<matplotlib.image.AxesImage at 0x1afe872c4c8>"
      ]
     },
     "execution_count": 13,
     "metadata": {},
     "output_type": "execute_result"
    },
    {
     "data": {
      "image/png": "[encoded data removed]",
      "text/plain": [
       "<Figure size 432x288 with 1 Axes>"
      ]
     },
     "metadata": {
      "needs_background": "light"
     },
     "output_type": "display_data"
    }
   ],
   "source": [
    "plt.imshow(images[2000])"
   ]
  },
  {
   "cell_type": "markdown",
   "metadata": {},
   "source": [
    "## Split the data into Train, Test and Validation Sets"
   ]
  },
  {
   "cell_type": "code",
   "execution_count": 5,
   "metadata": {},
   "outputs": [
    {
     "name": "stdout",
     "output_type": "stream",
     "text": [
      "(8128, 28, 28, 3)\n",
      "(2032, 28, 28, 3)\n"
     ]
    }
   ],
   "source": [
    "\n",
    "train_images, test_images, train_labels, test_labels = train_test_split(images, labels, test_size=0.2)\n",
    "print(train_images.shape)\n",
    "print(test_images.shape)"
   ]
  },
  {
   "cell_type": "code",
   "execution_count": 6,
   "metadata": {},
   "outputs": [
    {
     "name": "stdout",
     "output_type": "stream",
     "text": [
      "(6502, 28, 28, 3)\n",
      "(1626, 28, 28, 3)\n"
     ]
    }
   ],
   "source": [
    "\n",
    "train_images,  val_images, train_labels, val_labels = train_test_split(train_images, train_labels, test_size=0.2)\n",
    "print(train_images.shape)\n",
    "print(val_images.shape)"
   ]
  },
  {
   "cell_type": "markdown",
   "metadata": {},
   "source": [
    "## Preprocessing the data"
   ]
  },
  {
   "cell_type": "code",
   "execution_count": 8,
   "metadata": {},
   "outputs": [],
   "source": [
    "def preProcess(img):\n",
    "    img=cv2.cvtColor(img,cv2.COLOR_BGR2GRAY)\n",
    "    img=cv2.equalizeHist(img)\n",
    "    x,img=cv2.threshold(img, 127, 255, cv2.THRESH_BINARY)\n",
    "    img=img/255\n",
    "    return img\n",
    "\n",
    "train_images = np.array(list(map(preProcess, train_images)))\n",
    "test_images = np.array(list(map(preProcess, test_images)))\n",
    "val_images = np.array(list(map(preProcess, val_images)))"
   ]
  },
  {
   "cell_type": "code",
   "execution_count": 9,
   "metadata": {},
   "outputs": [
    {
     "name": "stdout",
     "output_type": "stream",
     "text": [
      "(6502, 28, 28)\n",
      "(2032, 28, 28)\n",
      "(1626, 28, 28)\n"
     ]
    }
   ],
   "source": [
    "print(train_images.shape)\n",
    "print(test_images.shape)\n",
    "print(val_images.shape)"
   ]
  },
  {
   "cell_type": "code",
   "execution_count": 10,
   "metadata": {},
   "outputs": [],
   "source": [
    "train_images = train_images.reshape(train_images.shape[0], 28, 28, 1)\n",
    "test_images = test_images.reshape(test_images.shape[0], 28, 28, 1)\n",
    "val_images = val_images.reshape(val_images.shape[0], 28, 28, 1)"
   ]
  },
  {
   "cell_type": "code",
   "execution_count": 11,
   "metadata": {},
   "outputs": [
    {
     "name": "stdout",
     "output_type": "stream",
     "text": [
      "(6502, 28, 28, 1)\n",
      "(2032, 28, 28, 1)\n",
      "(1626, 28, 28, 1)\n"
     ]
    }
   ],
   "source": [
    "print(train_images.shape)\n",
    "print(test_images.shape)\n",
    "print(val_images.shape)"
   ]
  },
  {
   "cell_type": "code",
   "execution_count": 14,
   "metadata": {},
   "outputs": [
    {
     "data": {
      "text/plain": [
       "<matplotlib.image.AxesImage at 0x1afe8791108>"
      ]
     },
     "execution_count": 14,
     "metadata": {},
     "output_type": "execute_result"
    },
    {
     "data": {
      "image/png": "[encoded data removed]",
      "text/plain": [
       "<Figure size 432x288 with 1 Axes>"
      ]
     },
     "metadata": {
      "needs_background": "light"
     },
     "output_type": "display_data"
    }
   ],
   "source": [
    "plt.imshow(images[200])"
   ]
  },
  {
   "cell_type": "markdown",
   "metadata": {},
   "source": [
    "## Defining Callback"
   ]
  },
  {
   "cell_type": "code",
   "execution_count": 15,
   "metadata": {},
   "outputs": [],
   "source": [
    "class myCallback(tf.keras.callbacks.Callback):\n",
    "    def on_epoch_end(self, epoch, logs={}):\n",
    "        if(logs.get('val_accuracy')>0.995):\n",
    "            print(\"\\nReached 99.5% accuracy so cancelling training!\")\n",
    "            self.model.stop_training = True"
   ]
  },
  {
   "cell_type": "markdown",
   "metadata": {},
   "source": [
    "## Creating CNN Model"
   ]
  },
  {
   "cell_type": "code",
   "execution_count": 16,
   "metadata": {},
   "outputs": [],
   "source": [
    "model = tf.keras.models.Sequential([\n",
    "                                    tf.keras.layers.Conv2D(32, (3,3), input_shape=(28, 28, 1),  activation=\"relu\"),\n",
    "                                    tf.keras.layers.MaxPooling2D(2, 2),\n",
    "                                    tf.keras.layers.Dropout(0.5),\n",
    "                                    tf.keras.layers.Conv2D(64, (3,3),  activation=\"relu\"),\n",
    "                                    tf.keras.layers.MaxPooling2D(2, 2),\n",
    "                                    tf.keras.layers.Dropout(0.5),\n",
    "                                    tf.keras.layers.Conv2D(64, (3,3),  activation=\"relu\"),\n",
    "                                    tf.keras.layers.Flatten(),\n",
    "                                    tf.keras.layers.Dense(128, activation=\"relu\"),\n",
    "                                    tf.keras.layers.Dropout(0.5),\n",
    "                                    tf.keras.layers.Dense(10,activation=tf.nn.softmax)\n",
    "])"
   ]
  },
  {
   "cell_type": "code",
   "execution_count": 18,
   "metadata": {},
   "outputs": [
    {
     "name": "stdout",
     "output_type": "stream",
     "text": [
      "Model: \"sequential\"\n",
      "_________________________________________________________________\n",
      "Layer (type)                 Output Shape              Param #   \n",
      "=================================================================\n",
      "conv2d (Conv2D)              (None, 26, 26, 32)        320       \n",
      "_________________________________________________________________\n",
      "max_pooling2d (MaxPooling2D) (None, 13, 13, 32)        0         \n",
      "_________________________________________________________________\n",
      "dropout (Dropout)            (None, 13, 13, 32)        0         \n",
      "_________________________________________________________________\n",
      "conv2d_1 (Conv2D)            (None, 11, 11, 64)        18496     \n",
      "_________________________________________________________________\n",
      "max_pooling2d_1 (MaxPooling2 (None, 5, 5, 64)          0         \n",
      "_________________________________________________________________\n",
      "dropout_1 (Dropout)          (None, 5, 5, 64)          0         \n",
      "_________________________________________________________________\n",
      "conv2d_2 (Conv2D)            (None, 3, 3, 64)          36928     \n",
      "_________________________________________________________________\n",
      "flatten (Flatten)            (None, 576)               0         \n",
      "_________________________________________________________________\n",
      "dense (Dense)                (None, 128)               73856     \n",
      "_________________________________________________________________\n",
      "dropout_2 (Dropout)          (None, 128)               0         \n",
      "_________________________________________________________________\n",
      "dense_1 (Dense)              (None, 10)                1290      \n",
      "=================================================================\n",
      "Total params: 130,890\n",
      "Trainable params: 130,890\n",
      "Non-trainable params: 0\n",
      "_________________________________________________________________\n"
     ]
    }
   ],
   "source": [
    "model.compile(optimizer='adam', \n",
    "              loss='sparse_categorical_crossentropy', \n",
    "              metrics=['accuracy'])\n",
    "model.summary()"
   ]
  },
  {
   "cell_type": "markdown",
   "metadata": {},
   "source": [
    "## Image Augmentation"
   ]
  },
  {
   "cell_type": "code",
   "execution_count": 17,
   "metadata": {},
   "outputs": [],
   "source": [
    "datagen = tf.keras.preprocessing.image.ImageDataGenerator(width_shift_range=0.1,\n",
    "                             height_shift_range=0.1,\n",
    "                             zoom_range=0.2,\n",
    "                             shear_range=0.1,\n",
    "                             rotation_range=10)"
   ]
  },
  {
   "cell_type": "markdown",
   "metadata": {},
   "source": [
    "## Training the model"
   ]
  },
  {
   "cell_type": "code",
   "execution_count": 19,
   "metadata": {},
   "outputs": [
    {
     "name": "stdout",
     "output_type": "stream",
     "text": [
      "Epoch 1/30\n",
      "204/204 [==============================] - 4s 18ms/step - loss: 1.9335 - accuracy: 0.2904 - val_loss: 0.4236 - val_accuracy: 0.9323\n",
      "Epoch 2/30\n",
      "204/204 [==============================] - 3s 15ms/step - loss: 0.7407 - accuracy: 0.7542 - val_loss: 0.1151 - val_accuracy: 0.9643\n",
      "Epoch 3/30\n",
      "204/204 [==============================] - 3s 16ms/step - loss: 0.4395 - accuracy: 0.8594 - val_loss: 0.0871 - val_accuracy: 0.9680\n",
      "Epoch 4/30\n",
      "204/204 [==============================] - 3s 16ms/step - loss: 0.3304 - accuracy: 0.8979 - val_loss: 0.0512 - val_accuracy: 0.9834\n",
      "Epoch 5/30\n",
      "204/204 [==============================] - 3s 16ms/step - loss: 0.2738 - accuracy: 0.9123 - val_loss: 0.0496 - val_accuracy: 0.9840\n",
      "Epoch 6/30\n",
      "204/204 [==============================] - 3s 17ms/step - loss: 0.2432 - accuracy: 0.9239 - val_loss: 0.0422 - val_accuracy: 0.9871\n",
      "Epoch 7/30\n",
      "204/204 [==============================] - 3s 16ms/step - loss: 0.2137 - accuracy: 0.9329 - val_loss: 0.0420 - val_accuracy: 0.9865\n",
      "Epoch 8/30\n",
      "204/204 [==============================] - 3s 16ms/step - loss: 0.1878 - accuracy: 0.9425 - val_loss: 0.0393 - val_accuracy: 0.9883\n",
      "Epoch 9/30\n",
      "204/204 [==============================] - 3s 16ms/step - loss: 0.1885 - accuracy: 0.9411 - val_loss: 0.0393 - val_accuracy: 0.9871\n",
      "Epoch 10/30\n",
      "204/204 [==============================] - 3s 17ms/step - loss: 0.1617 - accuracy: 0.9523 - val_loss: 0.0328 - val_accuracy: 0.9895\n",
      "Epoch 11/30\n",
      "204/204 [==============================] - 4s 18ms/step - loss: 0.1646 - accuracy: 0.9485 - val_loss: 0.0300 - val_accuracy: 0.9914\n",
      "Epoch 12/30\n",
      "204/204 [==============================] - 4s 17ms/step - loss: 0.1537 - accuracy: 0.9551 - val_loss: 0.0265 - val_accuracy: 0.9914\n",
      "Epoch 13/30\n",
      "204/204 [==============================] - 4s 17ms/step - loss: 0.1511 - accuracy: 0.9519 - val_loss: 0.0238 - val_accuracy: 0.9926\n",
      "Epoch 14/30\n",
      "204/204 [==============================] - 4s 18ms/step - loss: 0.1512 - accuracy: 0.9554 - val_loss: 0.0270 - val_accuracy: 0.9920\n",
      "Epoch 15/30\n",
      "204/204 [==============================] - 3s 17ms/step - loss: 0.1408 - accuracy: 0.9589 - val_loss: 0.0375 - val_accuracy: 0.9852\n",
      "Epoch 16/30\n",
      "204/204 [==============================] - 3s 16ms/step - loss: 0.1404 - accuracy: 0.9563 - val_loss: 0.0230 - val_accuracy: 0.9932\n",
      "Epoch 17/30\n",
      "204/204 [==============================] - 3s 16ms/step - loss: 0.1188 - accuracy: 0.9602 - val_loss: 0.0201 - val_accuracy: 0.9926\n",
      "Epoch 18/30\n",
      "204/204 [==============================] - 4s 17ms/step - loss: 0.1170 - accuracy: 0.9639 - val_loss: 0.0206 - val_accuracy: 0.9926\n",
      "Epoch 19/30\n",
      "204/204 [==============================] - 3s 17ms/step - loss: 0.1266 - accuracy: 0.9646 - val_loss: 0.0216 - val_accuracy: 0.9938\n",
      "Epoch 20/30\n",
      "204/204 [==============================] - 3s 17ms/step - loss: 0.1233 - accuracy: 0.9625 - val_loss: 0.0302 - val_accuracy: 0.9895\n",
      "Epoch 21/30\n",
      "202/204 [============================>.] - ETA: 0s - loss: 0.1188 - accuracy: 0.9621\n",
      "Reached 99.5% accuracy so cancelling training!\n",
      "204/204 [==============================] - 3s 17ms/step - loss: 0.1188 - accuracy: 0.9620 - val_loss: 0.0177 - val_accuracy: 0.9951\n"
     ]
    }
   ],
   "source": [
    "callbacks = myCallback()\n",
    "history = model.fit(datagen.flow(train_images, train_labels),\n",
    "                              epochs = 30, validation_data = (val_images, val_labels), callbacks = [callbacks])"
   ]
  },
  {
   "cell_type": "markdown",
   "metadata": {},
   "source": [
    "### Plotting Graphs"
   ]
  },
  {
   "cell_type": "code",
   "execution_count": 21,
   "metadata": {},
   "outputs": [
    {
     "data": {
      "image/png": "[encoded data removed]",
      "text/plain": [
       "<Figure size 432x288 with 1 Axes>"
      ]
     },
     "metadata": {
      "needs_background": "light"
     },
     "output_type": "display_data"
    },
    {
     "data": {
      "image/png": "[encoded data removed]",
      "text/plain": [
       "<Figure size 432x288 with 1 Axes>"
      ]
     },
     "metadata": {
      "needs_background": "light"
     },
     "output_type": "display_data"
    }
   ],
   "source": [
    "plt.figure(1)\n",
    "plt.plot(history.history['loss'])\n",
    "plt.plot(history.history['val_loss'])\n",
    "plt.legend(['Training','Validation'])\n",
    "plt.title('Loss')\n",
    "plt.xlabel('epoch')\n",
    "plt.figure(2)\n",
    "plt.plot(history.history['accuracy'])\n",
    "plt.plot(history.history['val_accuracy'])\n",
    "plt.legend(['Training','Validation'])\n",
    "plt.title('Accuracy')\n",
    "plt.xlabel('epoch')\n",
    "plt.show()"
   ]
  },
  {
   "cell_type": "markdown",
   "metadata": {},
   "source": [
    "### Evaluating the model on Test set"
   ]
  },
  {
   "cell_type": "code",
   "execution_count": 22,
   "metadata": {},
   "outputs": [
    {
     "name": "stdout",
     "output_type": "stream",
     "text": [
      "64/64 [==============================] - 0s 3ms/step - loss: 0.0171 - accuracy: 0.9961\n",
      "Test Score :  0.017128372564911842\n",
      "Test Accuracy :  0.9960629940032959\n"
     ]
    }
   ],
   "source": [
    "score = model.evaluate(test_images, test_labels, verbose=1)\n",
    "print('Test Score : ', score[0])\n",
    "print('Test Accuracy : ', score[1])"
   ]
  },
  {
   "cell_type": "markdown",
   "metadata": {},
   "source": [
    "### Saving the model"
   ]
  },
  {
   "cell_type": "code",
   "execution_count": 23,
   "metadata": {},
   "outputs": [
    {
     "name": "stdout",
     "output_type": "stream",
     "text": [
      "WARNING:tensorflow:From C:\\Users\\PRISHITA\\Anaconda3\\lib\\site-packages\\tensorflow\\python\\ops\\resource_variable_ops.py:1817: calling BaseResourceVariable.__init__ (from tensorflow.python.ops.resource_variable_ops) with constraint is deprecated and will be removed in a future version.\n",
      "Instructions for updating:\n",
      "If using Keras pass *_constraint arguments to layers.\n",
      "INFO:tensorflow:Assets written to: Digit_Recognizer\\assets\n"
     ]
    }
   ],
   "source": [
    "model.save('Digit_Recognizer')\n",
    "model.save(\"Digit_Recognizer.h5\")"
   ]
  }
 ],
 "metadata": {
  "kernelspec": {
   "display_name": "Python 3",
   "language": "python",
   "name": "python3"
  },
  "language_info": {
   "codemirror_mode": {
    "name": "ipython",
    "version": 3
   },
   "file_extension": ".py",
   "mimetype": "text/x-python",
   "name": "python",
   "nbconvert_exporter": "python",
   "pygments_lexer": "ipython3",
   "version": "3.7.4"
  }
 },
 "nbformat": 4,
 "nbformat_minor": 2
}
